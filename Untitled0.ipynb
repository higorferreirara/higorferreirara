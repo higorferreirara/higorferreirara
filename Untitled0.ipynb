{
  "nbformat": 4,
  "nbformat_minor": 0,
  "metadata": {
    "colab": {
      "provenance": [],
      "authorship_tag": "ABX9TyM9ofrMa2QSW5vI/SXyROR9"
    },
    "kernelspec": {
      "name": "python3",
      "display_name": "Python 3"
    },
    "language_info": {
      "name": "python"
    }
  },
  "cells": [
    {
      "cell_type": "code",
      "execution_count": 3,
      "metadata": {
        "colab": {
          "base_uri": "https://localhost:8080/"
        },
        "id": "qbLu9T_eywUp",
        "outputId": "1f04c312-de29-4c78-cf59-2c4aa51845de"
      },
      "outputs": [
        {
          "output_type": "stream",
          "name": "stdout",
          "text": [
            "*** Bem vindo ao verificador Fibonacci ***\n",
            "\n",
            "Digite um número: 8\n",
            "O número 8 pertence à sequência de Fibonacci.\n"
          ]
        }
      ],
      "source": [
        "print(\"*** Bem vindo ao verificador Fibonacci ***\\n\")\n",
        "def pertence_fibonacci(num):\n",
        "\n",
        "  a, b = 0, 1\n",
        "  while b <= num:\n",
        "    if b == num:\n",
        "      return True\n",
        "    a, b = b, a + b\n",
        "  return False\n",
        "\n",
        "# Entrada do usuário\n",
        "numero = int(input(\"Digite um número: \"))\n",
        "\n",
        "# Verificação e saída\n",
        "if pertence_fibonacci(numero):\n",
        "  print(f\"O número {numero} pertence à sequência de Fibonacci.\")\n",
        "else:\n",
        "  print(f\"O número {numero} não pertence à sequência de Fibonacci.\")\n"
      ]
    }
  ]
}