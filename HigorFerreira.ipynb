{
  "nbformat": 4,
  "nbformat_minor": 0,
  "metadata": {
    "colab": {
      "provenance": [],
      "authorship_tag": "ABX9TyP43gq3igsDHd1sPlSOV1TS",
      "include_colab_link": true
    },
    "kernelspec": {
      "name": "python3",
      "display_name": "Python 3"
    },
    "language_info": {
      "name": "python"
    }
  },
  "cells": [
    {
      "cell_type": "markdown",
      "metadata": {
        "id": "view-in-github",
        "colab_type": "text"
      },
      "source": [
        "<a href=\"https://colab.research.google.com/github/higorferreirara/higorferreirara/blob/main/HigorFerreira.ipynb\" target=\"_parent\"><img src=\"https://colab.research.google.com/assets/colab-badge.svg\" alt=\"Open In Colab\"/></a>"
      ]
    },
    {
      "cell_type": "code",
      "source": [
        "print(\"*** Verificando a sequêcia Fibonacci ***\\n\")\n",
        "def pertence_fibonacci(num):\n",
        "\n",
        "    a, b = 0, 1\n",
        "    while a <= num:\n",
        "        if a == num:\n",
        "            return True\n",
        "        a, b = b, a + b\n",
        "    return False\n",
        "\n",
        "# Exemplo de uso:\n",
        "numero = int(input(\"Digite um número: \"))\n",
        "if pertence_fibonacci(numero):\n",
        "    print(f\"O número {numero} pertence à sequência de Fibonacci.\")\n",
        "else:\n",
        "    print(f\"O número {numero} não pertence à sequência de Fibonacci.\")\n",
        "\n",
        "\n"
      ],
      "metadata": {
        "colab": {
          "base_uri": "https://localhost:8080/"
        },
        "id": "KcxHuqBVKCvg",
        "outputId": "15db7fe2-6fe4-4436-f502-3828e14dc141"
      },
      "execution_count": 6,
      "outputs": [
        {
          "output_type": "stream",
          "name": "stdout",
          "text": [
            "*** Verificando a sequêcia Fibonacci ***\n",
            "\n",
            "Digite um número: 5\n",
            "O número 5 pertence à sequência de Fibonacci.\n"
          ]
        }
      ]
    }
  ]
}