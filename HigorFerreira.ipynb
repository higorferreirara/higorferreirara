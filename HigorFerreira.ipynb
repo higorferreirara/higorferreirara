{
  "nbformat": 4,
  "nbformat_minor": 0,
  "metadata": {
    "colab": {
      "provenance": [],
      "authorship_tag": "ABX9TyMeMT24IlXwiI0aqltBpWK8",
      "include_colab_link": true
    },
    "kernelspec": {
      "name": "python3",
      "display_name": "Python 3"
    },
    "language_info": {
      "name": "python"
    }
  },
  "cells": [
    {
      "cell_type": "markdown",
      "metadata": {
        "id": "view-in-github",
        "colab_type": "text"
      },
      "source": [
        "<a href=\"https://colab.research.google.com/github/higorferreirara/higorferreirara/blob/main/HigorFerreira.ipynb\" target=\"_parent\"><img src=\"https://colab.research.google.com/assets/colab-badge.svg\" alt=\"Open In Colab\"/></a>"
      ]
    },
    {
      "cell_type": "code",
      "execution_count": null,
      "metadata": {
        "colab": {
          "base_uri": "https://localhost:8080/"
        },
        "id": "vwryU0GDpN4l",
        "outputId": "e7bc6af1-6936-4b81-b5bf-6bf8c3fc106f"
      },
      "outputs": [
        {
          "output_type": "stream",
          "name": "stdout",
          "text": [
            "*** BEM-VINDO AO PROGRAMA DE MÉDIAS *** \n",
            "\n",
            "De qual aluno você deseja ter informações?\n",
            "Ana\n",
            "\n",
            "O aluno Ana não possui notas cadastradas. vamos cadastra-las!\n",
            "Digite a nota 1: 8.0\n",
            "Digite a nota 2: 7.0\n",
            "Digite a nota 3: 10.0\n",
            "Digite a nota 4: 6.0\n",
            "\n",
            "Calculando as notas...\n",
            "\n",
            "As notas do aluno são:  [8.0, 7.0, 10.0, 6.0]\n",
            "A média do aluno é:  7.75\n",
            "O aluno está APROVADO!\n"
          ]
        }
      ],
      "source": [
        "# Apresentação do programa\n",
        "print(\"*** BEM-VINDO AO PROGRAMA DE MÉDIAS *** \\n\")\n",
        "\n",
        "# Identifique de quem é a informação que você deseja\n",
        "print(\"De qual aluno você deseja ter informações?\")\n",
        "aluno_procurado = input()\n",
        "\n",
        "# O programa vai pedir para cadastrar as notas\n",
        "Alunos_cadastrados = []\n",
        "\n",
        "if aluno_procurado in Alunos_cadastrados:\n",
        "  print(\"\\nO aluno\", aluno_procurado, \"já possui cadastro, vou te passar os dados dele:\")\n",
        "\n",
        "else:\n",
        "  print(\"\\nO aluno\", aluno_procurado, \"não possui notas cadastradas. vamos cadastra-las!\")\n",
        "\n",
        "  #O programa vai solicitar as notas do aluno\n",
        "  notas = []\n",
        "\n",
        "  for i in range(4):\n",
        "      nota = float(input(\"Digite a nota {}: \".format(i+1)))\n",
        "      notas.append(nota)\n",
        "\n",
        "  print(\"\\nCalculando as notas...\")\n",
        "\n",
        "  #O programa vai calcular as notas e dizer o resultado\n",
        "  soma_notas = sum(notas)\n",
        "  media = soma_notas / len(notas)\n",
        "\n",
        "  print(\"\\nAs notas do aluno são: \", notas)\n",
        "  print(\"A média do aluno é: \", media)\n",
        "\n",
        "  if media > 6:\n",
        "    print(\"O aluno está APROVADO!\")\n",
        "\n",
        "  else:\n",
        "    print(\"O aluno está REPROVADO!\")\n",
        "\n",
        "\n",
        "\n"
      ]
    },
    {
      "cell_type": "code",
      "source": [
        "print(\"*** Verificando a sequêcia Fibonacci ***\\n\")\n",
        "def pertence_fibonacci(num):\n",
        "\n",
        "    a, b = 0, 1\n",
        "    while a <= num:\n",
        "        if a == num:\n",
        "            return True\n",
        "        a, b = b, a + b\n",
        "    return False\n",
        "\n",
        "# Exemplo de uso:\n",
        "numero = int(input(\"Digite um número: \"))\n",
        "if pertence_fibonacci(numero):\n",
        "    print(f\"O número {numero} pertence à sequência de Fibonacci.\")\n",
        "else:\n",
        "    print(f\"O número {numero} não pertence à sequência de Fibonacci.\")\n",
        "\n",
        "\n"
      ],
      "metadata": {
        "colab": {
          "base_uri": "https://localhost:8080/"
        },
        "id": "KcxHuqBVKCvg",
        "outputId": "15db7fe2-6fe4-4436-f502-3828e14dc141"
      },
      "execution_count": 6,
      "outputs": [
        {
          "output_type": "stream",
          "name": "stdout",
          "text": [
            "*** Verificando a sequêcia Fibonacci ***\n",
            "\n",
            "Digite um número: 5\n",
            "O número 5 pertence à sequência de Fibonacci.\n"
          ]
        }
      ]
    }
  ]
}