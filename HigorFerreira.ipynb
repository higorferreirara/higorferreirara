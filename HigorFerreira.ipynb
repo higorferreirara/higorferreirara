{
  "nbformat": 4,
  "nbformat_minor": 0,
  "metadata": {
    "colab": {
      "provenance": [],
      "authorship_tag": "ABX9TyOEWvSVyqyka/LiZaf4BDUG",
      "include_colab_link": true
    },
    "kernelspec": {
      "name": "python3",
      "display_name": "Python 3"
    },
    "language_info": {
      "name": "python"
    }
  },
  "cells": [
    {
      "cell_type": "markdown",
      "metadata": {
        "id": "view-in-github",
        "colab_type": "text"
      },
      "source": [
        "<a href=\"https://colab.research.google.com/github/higorferreirara/higorferreirara/blob/main/HigorFerreira.ipynb\" target=\"_parent\"><img src=\"https://colab.research.google.com/assets/colab-badge.svg\" alt=\"Open In Colab\"/></a>"
      ]
    },
    {
      "cell_type": "code",
      "source": [
        "print(\"*** Contador da letra 'A' ***\")\n",
        "def contar_as(texto):\n",
        "\n",
        "    # Converter todo o texto para minúsculo para facilitar a contagem\n",
        "    texto_minusculo = texto.lower()\n",
        "\n",
        "    # Contar as ocorrências da letra 'a'\n",
        "    contagem = texto_minusculo.count('a')\n",
        "\n",
        "    return contagem\n",
        "\n",
        "# Solicitar a entrada do usuário\n",
        "texto = input(\"Digite um texto: \")\n",
        "\n",
        "# Chamar a função e imprimir o resultado\n",
        "resultado = contar_as(texto)\n",
        "print(f\"A letra 'a' aparece {resultado} vezes no texto.\")"
      ],
      "metadata": {
        "colab": {
          "base_uri": "https://localhost:8080/"
        },
        "id": "o7ww4kgHQWm5",
        "outputId": "ef934414-efb5-45af-cedf-4ae7dbce343d"
      },
      "execution_count": 7,
      "outputs": [
        {
          "output_type": "stream",
          "name": "stdout",
          "text": [
            "*** Contador da letra 'A' ***\n",
            "Digite um texto: Ana Clara\n",
            "A letra 'a' aparece 4 vezes no texto.\n"
          ]
        }
      ]
    }
  ]
}